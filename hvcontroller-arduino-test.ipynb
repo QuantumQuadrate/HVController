{
 "cells": [
  {
   "cell_type": "code",
   "execution_count": 48,
   "metadata": {},
   "outputs": [],
   "source": [
    "import serial\n",
    "import struct"
   ]
  },
  {
   "cell_type": "code",
   "execution_count": 64,
   "metadata": {},
   "outputs": [
    {
     "name": "stdout",
     "output_type": "stream",
     "text": [
      "COM7\n",
      "Reading values:\n",
      "(0, 0, 0, '\\n')\n",
      "Setting voltage high:\n",
      "'SO\\x01\\x00\\x0f<\\xf2\\n'\n",
      "Reading values:\n",
      "(0, 998642, 0, '\\n')\n",
      "Setting voltage 0:\n",
      "'SO\\x01\\x00\\x00\\x00\\x00\\n'\n",
      "Reading values:\n",
      "(0, 0, 0, '\\n')\n"
     ]
    }
   ],
   "source": [
    "VrefP = 10.5 #TODO: measure to recalibrate\n",
    "VrefN = 0\n",
    "NDAC = 3\n",
    "\n",
    "def volt_to_dac(V):\n",
    "    #V = (VrefP-VrefN)*D/(2^20-1)-VrefN\n",
    "    #force V within valid range\n",
    "    if V < VrefP:\n",
    "        return int(V*(2**20-1)/(VrefP-VrefN)+VrefN)\n",
    "    else:\n",
    "        return 2**20-1\n",
    "\n",
    "def dac_to_volt(D):\n",
    "    return (VrefP-VrefN)*D/(2**20-1)-VrefN\n",
    "\n",
    "def readvoltage(ser,addr):\n",
    "    msg = struct.pack('>ccBc','R','O',addr,'\\n')\n",
    "    ser.write(msg)\n",
    "    return ser.readline()\n",
    "\n",
    "def readall(ser):\n",
    "    return readvoltage(ser,NDAC)\n",
    "\n",
    "def setvoltage(ser,addr,v):\n",
    "    dacv = volt_to_dac(v)\n",
    "    msg = struct.pack('>ccBLc','S','O',addr,dacv,'\\n')\n",
    "    ser.write(msg)\n",
    "    return ser.readline()\n",
    "\n",
    "with serial.Serial('COM7', timeout=1) as ser:\n",
    "    print(ser.name)\n",
    "    ser.readline()\n",
    "    \n",
    "    print('Reading values:')\n",
    "    print(struct.unpack('>LLLc',readall(ser)))\n",
    "    \n",
    "    print('Setting voltage high:')\n",
    "    print(repr(setvoltage(ser,1,10)))\n",
    "    \n",
    "    print('Reading values:')\n",
    "    print(struct.unpack('>LLLc',readall(ser)))\n",
    "    \n",
    "    print('Setting voltage 0:')\n",
    "    print(repr(setvoltage(ser,1,0)))\n",
    "    \n",
    "    print('Reading values:')\n",
    "    print(struct.unpack('>LLLc',readall(ser)))"
   ]
  },
  {
   "cell_type": "code",
   "execution_count": 62,
   "metadata": {},
   "outputs": [
    {
     "name": "stdout",
     "output_type": "stream",
     "text": [
      "'SO\\x01\\x00\\x00\\x00\\x00\\n'\n"
     ]
    }
   ],
   "source": [
    "with serial.Serial('COM7', timeout=1) as ser:\n",
    "    ser.readline()\n",
    "    print(repr(setvoltage(ser,1,0)))"
   ]
  },
  {
   "cell_type": "code",
   "execution_count": 24,
   "metadata": {},
   "outputs": [
    {
     "name": "stdout",
     "output_type": "stream",
     "text": [
      "!\n"
     ]
    }
   ],
   "source": [
    "print(b'\\x21')"
   ]
  },
  {
   "cell_type": "code",
   "execution_count": null,
   "metadata": {},
   "outputs": [],
   "source": [
    "b = bytearray.fromhex(\"0f\")\n",
    "print(b)\n",
    "print(bytes(0x490F9))\n",
    "b.decode()"
   ]
  },
  {
   "cell_type": "code",
   "execution_count": null,
   "metadata": {},
   "outputs": [],
   "source": []
  }
 ],
 "metadata": {
  "kernelspec": {
   "display_name": "Python 2",
   "language": "python",
   "name": "python2"
  },
  "language_info": {
   "codemirror_mode": {
    "name": "ipython",
    "version": 2
   },
   "file_extension": ".py",
   "mimetype": "text/x-python",
   "name": "python",
   "nbconvert_exporter": "python",
   "pygments_lexer": "ipython2",
   "version": "2.7.16"
  }
 },
 "nbformat": 4,
 "nbformat_minor": 2
}
